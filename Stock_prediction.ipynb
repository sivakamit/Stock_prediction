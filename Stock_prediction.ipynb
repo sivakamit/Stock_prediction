{
 "cells": [
  {
   "cell_type": "code",
   "execution_count": 1,
   "metadata": {},
   "outputs": [],
   "source": [
    "import numpy as np \n",
    "\n",
    "\n",
    "# FUNCTION TO CREATE 1D DATA INTO TIME SERIES DATASET\n",
    "def new_dataset(dataset, step_size):\n",
    "    data_X, data_Y = [], []\n",
    "    for i in range(len(dataset)-step_size-1):\n",
    "        a = dataset[i:(i+step_size), 0]\n",
    "        data_X.append(a)\n",
    "        data_Y.append(dataset[i + step_size, 0])\n",
    "    return np.array(data_X), np.array(data_Y)"
   ]
  },
  {
   "cell_type": "code",
   "execution_count": 2,
   "metadata": {},
   "outputs": [],
   "source": [
    "# IMPORTING IMPORTANT LIBRARIES\n",
    "import pandas as pd\n",
    "import matplotlib.pyplot as plt\n",
    "import numpy as np \n",
    "import math\n",
    "from sklearn.preprocessing import MinMaxScaler\n",
    "from sklearn.metrics import mean_squared_error\n",
    "from sklearn.metrics import mean_absolute_error\n",
    "from keras.models import Sequential\n",
    "from keras.layers import Dense, Activation, Dropout\n",
    "from keras.layers import LSTM\n"
   ]
  },
  {
   "cell_type": "code",
   "execution_count": 3,
   "metadata": {},
   "outputs": [],
   "source": [
    "# FOR REPRODUCIBILITY\n",
    "np.random.seed(7)\n"
   ]
  },
  {
   "cell_type": "code",
   "execution_count": 4,
   "metadata": {},
   "outputs": [],
   "source": [
    "# IMPORTING DATASET \n",
    "dataset = pd.read_csv('AMZN_10Y.csv', usecols=[1,2,3,4])\n",
    "#dataset = dataset.reindex(index = dataset.index[::-1])\n"
   ]
  },
  {
   "cell_type": "code",
   "execution_count": 5,
   "metadata": {},
   "outputs": [],
   "source": [
    "# CREATING OWN INDEX FOR FLEXIBILITY\n",
    "obs = np.arange(1, len(dataset) + 1, 1)"
   ]
  },
  {
   "cell_type": "code",
   "execution_count": 6,
   "metadata": {},
   "outputs": [],
   "source": [
    "# TAKING DIFFERENT INDICATORS FOR PREDICTION\n",
    "OHLC_avg = dataset.mean(axis = 1)\n",
    "HLC_avg = dataset[['High', 'Low', 'Close']].mean(axis = 1)\n",
    "close_val = dataset[['Close']]"
   ]
  },
  {
   "cell_type": "code",
   "execution_count": 7,
   "metadata": {},
   "outputs": [
    {
     "data": {
      "image/png": "[encoded data removed]",
      "text/plain": [
       "<Figure size 432x288 with 1 Axes>"
      ]
     },
     "metadata": {
      "needs_background": "light"
     },
     "output_type": "display_data"
    }
   ],
   "source": [
    "# PLOTTING ALL INDICATORS IN ONE PLOT\n",
    "plt.plot(obs, OHLC_avg, 'r', label = 'OHLC avg')\n",
    "plt.plot(obs, HLC_avg, 'b', label = 'HLC avg')\n",
    "plt.plot(obs, close_val, 'g', label = 'Closing price')\n",
    "plt.legend(loc = 'upper left')\n",
    "plt.show()"
   ]
  },
  {
   "cell_type": "code",
   "execution_count": 8,
   "metadata": {},
   "outputs": [],
   "source": [
    "# PREPARATION OF TIME SERIES DATASE\n",
    "OHLC_avg = np.reshape(OHLC_avg.values, (len(OHLC_avg),1)) # 1664\n",
    "scaler = MinMaxScaler(feature_range=(0, 1))\n",
    "OHLC_avg = scaler.fit_transform(OHLC_avg)"
   ]
  },
  {
   "cell_type": "code",
   "execution_count": 9,
   "metadata": {},
   "outputs": [],
   "source": [
    "# TRAIN-TEST SPLIT\n",
    "train_OHLC = int(len(OHLC_avg) * 0.75)\n",
    "test_OHLC = len(OHLC_avg) - train_OHLC\n",
    "train_OHLC, test_OHLC = OHLC_avg[0:train_OHLC,:], OHLC_avg[train_OHLC:len(OHLC_avg),:]"
   ]
  },
  {
   "cell_type": "code",
   "execution_count": 10,
   "metadata": {},
   "outputs": [],
   "source": [
    "# TIME-SERIES DATASET (FOR TIME T, VALUES FOR TIME T+1)\n",
    "trainX, trainY = new_dataset(train_OHLC, 1)\n",
    "testX, testY = new_dataset(test_OHLC, 1)"
   ]
  },
  {
   "cell_type": "code",
   "execution_count": 11,
   "metadata": {},
   "outputs": [],
   "source": [
    "# RESHAPING TRAIN AND TEST DATA\n",
    "trainX = np.reshape(trainX, (trainX.shape[0], 1, trainX.shape[1]))\n",
    "testX = np.reshape(testX, (testX.shape[0], 1, testX.shape[1]))\n",
    "step_size = 1"
   ]
  },
  {
   "cell_type": "code",
   "execution_count": 12,
   "metadata": {},
   "outputs": [],
   "source": [
    "\n",
    "# LSTM MODEL\n",
    "model = Sequential()\n",
    "model.add(LSTM(32, input_shape=(1, step_size), return_sequences = True))\n",
    "model.add(LSTM(16))\n",
    "model.add(Dense(1))\n",
    "model.add(Activation('linear'))\n",
    "# LSTM MODEL\n",
    "#model = Sequential()\n",
    "#model.add(LSTM(32, input_shape=(1, step_size), return_sequences = True))\n",
    "#model.add(Dropout(0.2))\n",
    "#model.add(LSTM(16, return_sequences = True))\n",
    "#model.add(Dropout(0.2))\n",
    "#model.add(LSTM(8))\n",
    "#model.add(Dropout(0.1))\n",
    "#model.add(Dense(1))\n",
    "#model.add(Activation('linear'))"
   ]
  },
  {
   "cell_type": "code",
   "execution_count": 13,
   "metadata": {},
   "outputs": [
    {
     "name": "stdout",
     "output_type": "stream",
     "text": [
      "Epoch 1/150\n",
      "189/189 - 44s - loss: 0.0721\n",
      "Epoch 2/150\n",
      "189/189 - 1s - loss: 0.0058\n",
      "Epoch 3/150\n",
      "189/189 - 1s - loss: 0.0029\n",
      "Epoch 4/150\n",
      "189/189 - 1s - loss: 0.0027\n",
      "Epoch 5/150\n",
      "189/189 - 1s - loss: 0.0026\n",
      "Epoch 6/150\n",
      "189/189 - 1s - loss: 0.0024\n",
      "Epoch 7/150\n",
      "189/189 - 1s - loss: 0.0024\n",
      "Epoch 8/150\n",
      "189/189 - 1s - loss: 0.0025\n",
      "Epoch 9/150\n",
      "189/189 - 1s - loss: 0.0026\n",
      "Epoch 10/150\n",
      "189/189 - 1s - loss: 0.0026\n",
      "Epoch 11/150\n",
      "189/189 - 1s - loss: 0.0027\n",
      "Epoch 12/150\n",
      "189/189 - 1s - loss: 0.0026\n",
      "Epoch 13/150\n",
      "189/189 - 1s - loss: 0.0023\n",
      "Epoch 14/150\n",
      "189/189 - 1s - loss: 0.0024\n",
      "Epoch 15/150\n",
      "189/189 - 1s - loss: 0.0026\n",
      "Epoch 16/150\n",
      "189/189 - 1s - loss: 0.0025\n",
      "Epoch 17/150\n",
      "189/189 - 1s - loss: 0.0025\n",
      "Epoch 18/150\n",
      "189/189 - 1s - loss: 0.0025\n",
      "Epoch 19/150\n",
      "189/189 - 1s - loss: 0.0024\n",
      "Epoch 20/150\n",
      "189/189 - 1s - loss: 0.0025\n",
      "Epoch 21/150\n",
      "189/189 - 1s - loss: 0.0025\n",
      "Epoch 22/150\n",
      "189/189 - 1s - loss: 0.0023\n",
      "Epoch 23/150\n",
      "189/189 - 1s - loss: 0.0027\n",
      "Epoch 24/150\n",
      "189/189 - 1s - loss: 0.0024\n",
      "Epoch 25/150\n",
      "189/189 - 1s - loss: 0.0026\n",
      "Epoch 26/150\n",
      "189/189 - 1s - loss: 0.0024\n",
      "Epoch 27/150\n",
      "189/189 - 1s - loss: 0.0023\n",
      "Epoch 28/150\n",
      "189/189 - 1s - loss: 0.0025\n",
      "Epoch 29/150\n",
      "189/189 - 1s - loss: 0.0027\n",
      "Epoch 30/150\n",
      "189/189 - 1s - loss: 0.0024\n",
      "Epoch 31/150\n",
      "189/189 - 1s - loss: 0.0027\n",
      "Epoch 32/150\n",
      "189/189 - 1s - loss: 0.0023\n",
      "Epoch 33/150\n",
      "189/189 - 1s - loss: 0.0024\n",
      "Epoch 34/150\n",
      "189/189 - 1s - loss: 0.0026\n",
      "Epoch 35/150\n",
      "189/189 - 1s - loss: 0.0024\n",
      "Epoch 36/150\n",
      "189/189 - 1s - loss: 0.0026\n",
      "Epoch 37/150\n",
      "189/189 - 1s - loss: 0.0024\n",
      "Epoch 38/150\n",
      "189/189 - 1s - loss: 0.0023\n",
      "Epoch 39/150\n",
      "189/189 - 1s - loss: 0.0029\n",
      "Epoch 40/150\n",
      "189/189 - 1s - loss: 0.0024\n",
      "Epoch 41/150\n",
      "189/189 - 1s - loss: 0.0023\n",
      "Epoch 42/150\n",
      "189/189 - 1s - loss: 0.0023\n",
      "Epoch 43/150\n",
      "189/189 - 1s - loss: 0.0024\n",
      "Epoch 44/150\n",
      "189/189 - 1s - loss: 0.0025\n",
      "Epoch 45/150\n",
      "189/189 - 1s - loss: 0.0025\n",
      "Epoch 46/150\n",
      "189/189 - 1s - loss: 0.0024\n",
      "Epoch 47/150\n",
      "189/189 - 1s - loss: 0.0025\n",
      "Epoch 48/150\n",
      "189/189 - 1s - loss: 0.0023\n",
      "Epoch 49/150\n",
      "189/189 - 1s - loss: 0.0027\n",
      "Epoch 50/150\n",
      "189/189 - 1s - loss: 0.0024\n",
      "Epoch 51/150\n",
      "189/189 - 1s - loss: 0.0025\n",
      "Epoch 52/150\n",
      "189/189 - 1s - loss: 0.0025\n",
      "Epoch 53/150\n",
      "189/189 - 1s - loss: 0.0026\n",
      "Epoch 54/150\n",
      "189/189 - 1s - loss: 0.0023\n",
      "Epoch 55/150\n",
      "189/189 - 1s - loss: 0.0024\n",
      "Epoch 56/150\n",
      "189/189 - 1s - loss: 0.0024\n",
      "Epoch 57/150\n",
      "189/189 - 1s - loss: 0.0025\n",
      "Epoch 58/150\n",
      "189/189 - 1s - loss: 0.0024\n",
      "Epoch 59/150\n",
      "189/189 - 1s - loss: 0.0025\n",
      "Epoch 60/150\n",
      "189/189 - 1s - loss: 0.0025\n",
      "Epoch 61/150\n",
      "189/189 - 1s - loss: 0.0025\n",
      "Epoch 62/150\n",
      "189/189 - 1s - loss: 0.0025\n",
      "Epoch 63/150\n",
      "189/189 - 1s - loss: 0.0025\n",
      "Epoch 64/150\n",
      "189/189 - 1s - loss: 0.0024\n",
      "Epoch 65/150\n",
      "189/189 - 1s - loss: 0.0026\n",
      "Epoch 66/150\n",
      "189/189 - 1s - loss: 0.0023\n",
      "Epoch 67/150\n",
      "189/189 - 1s - loss: 0.0025\n",
      "Epoch 68/150\n",
      "189/189 - 1s - loss: 0.0026\n",
      "Epoch 69/150\n",
      "189/189 - 1s - loss: 0.0024\n",
      "Epoch 70/150\n",
      "189/189 - 1s - loss: 0.0024\n",
      "Epoch 71/150\n",
      "189/189 - 1s - loss: 0.0023\n",
      "Epoch 72/150\n",
      "189/189 - 1s - loss: 0.0026\n",
      "Epoch 73/150\n",
      "189/189 - 1s - loss: 0.0024\n",
      "Epoch 74/150\n",
      "189/189 - 1s - loss: 0.0025\n",
      "Epoch 75/150\n",
      "189/189 - 1s - loss: 0.0024\n",
      "Epoch 76/150\n",
      "189/189 - 1s - loss: 0.0024\n",
      "Epoch 77/150\n",
      "189/189 - 1s - loss: 0.0025\n",
      "Epoch 78/150\n",
      "189/189 - 1s - loss: 0.0024\n",
      "Epoch 79/150\n",
      "189/189 - 1s - loss: 0.0024\n",
      "Epoch 80/150\n",
      "189/189 - 1s - loss: 0.0024\n",
      "Epoch 81/150\n",
      "189/189 - 1s - loss: 0.0025\n",
      "Epoch 82/150\n",
      "189/189 - 1s - loss: 0.0026\n",
      "Epoch 83/150\n",
      "189/189 - 1s - loss: 0.0024\n",
      "Epoch 84/150\n",
      "189/189 - 1s - loss: 0.0027\n",
      "Epoch 85/150\n",
      "189/189 - 1s - loss: 0.0024\n",
      "Epoch 86/150\n",
      "189/189 - 1s - loss: 0.0027\n",
      "Epoch 87/150\n",
      "189/189 - 1s - loss: 0.0023\n",
      "Epoch 88/150\n",
      "189/189 - 1s - loss: 0.0024\n",
      "Epoch 89/150\n",
      "189/189 - 1s - loss: 0.0023\n",
      "Epoch 90/150\n",
      "189/189 - 1s - loss: 0.0025\n",
      "Epoch 91/150\n",
      "189/189 - 1s - loss: 0.0023\n",
      "Epoch 92/150\n",
      "189/189 - 1s - loss: 0.0025\n",
      "Epoch 93/150\n",
      "189/189 - 1s - loss: 0.0023\n",
      "Epoch 94/150\n",
      "189/189 - 1s - loss: 0.0028\n",
      "Epoch 95/150\n",
      "189/189 - 1s - loss: 0.0024\n",
      "Epoch 96/150\n",
      "189/189 - 1s - loss: 0.0025\n",
      "Epoch 97/150\n",
      "189/189 - 1s - loss: 0.0024\n",
      "Epoch 98/150\n",
      "189/189 - 1s - loss: 0.0026\n",
      "Epoch 99/150\n",
      "189/189 - 1s - loss: 0.0025\n",
      "Epoch 100/150\n",
      "189/189 - 1s - loss: 0.0026\n",
      "Epoch 101/150\n",
      "189/189 - 1s - loss: 0.0024\n",
      "Epoch 102/150\n",
      "189/189 - 1s - loss: 0.0024\n",
      "Epoch 103/150\n",
      "189/189 - 1s - loss: 0.0024\n",
      "Epoch 104/150\n",
      "189/189 - 1s - loss: 0.0024\n",
      "Epoch 105/150\n",
      "189/189 - 1s - loss: 0.0026\n",
      "Epoch 106/150\n",
      "189/189 - 1s - loss: 0.0024\n",
      "Epoch 107/150\n",
      "189/189 - 1s - loss: 0.0024\n",
      "Epoch 108/150\n",
      "189/189 - 1s - loss: 0.0025\n",
      "Epoch 109/150\n",
      "189/189 - 1s - loss: 0.0024\n",
      "Epoch 110/150\n",
      "189/189 - 1s - loss: 0.0025\n",
      "Epoch 111/150\n",
      "189/189 - 1s - loss: 0.0026\n",
      "Epoch 112/150\n",
      "189/189 - 1s - loss: 0.0025\n",
      "Epoch 113/150\n",
      "189/189 - 1s - loss: 0.0025\n",
      "Epoch 114/150\n",
      "189/189 - 1s - loss: 0.0025\n",
      "Epoch 115/150\n",
      "189/189 - 1s - loss: 0.0027\n",
      "Epoch 116/150\n",
      "189/189 - 1s - loss: 0.0025\n",
      "Epoch 117/150\n",
      "189/189 - 1s - loss: 0.0023\n",
      "Epoch 118/150\n",
      "189/189 - 1s - loss: 0.0026\n",
      "Epoch 119/150\n",
      "189/189 - 1s - loss: 0.0023\n",
      "Epoch 120/150\n",
      "189/189 - 1s - loss: 0.0026\n",
      "Epoch 121/150\n",
      "189/189 - 1s - loss: 0.0025\n",
      "Epoch 122/150\n",
      "189/189 - 1s - loss: 0.0024\n",
      "Epoch 123/150\n",
      "189/189 - 1s - loss: 0.0023\n",
      "Epoch 124/150\n",
      "189/189 - 1s - loss: 0.0023\n",
      "Epoch 125/150\n",
      "189/189 - 1s - loss: 0.0023\n",
      "Epoch 126/150\n",
      "189/189 - 1s - loss: 0.0025\n",
      "Epoch 127/150\n",
      "189/189 - 1s - loss: 0.0025\n",
      "Epoch 128/150\n",
      "189/189 - 1s - loss: 0.0025\n",
      "Epoch 129/150\n",
      "189/189 - 1s - loss: 0.0024\n",
      "Epoch 130/150\n",
      "189/189 - 1s - loss: 0.0027\n",
      "Epoch 131/150\n",
      "189/189 - 1s - loss: 0.0025\n",
      "Epoch 132/150\n",
      "189/189 - 1s - loss: 0.0025\n",
      "Epoch 133/150\n",
      "189/189 - 1s - loss: 0.0026\n",
      "Epoch 134/150\n",
      "189/189 - 1s - loss: 0.0024\n",
      "Epoch 135/150\n",
      "189/189 - 1s - loss: 0.0024\n",
      "Epoch 136/150\n",
      "189/189 - 1s - loss: 0.0025\n",
      "Epoch 137/150\n",
      "189/189 - 1s - loss: 0.0022\n",
      "Epoch 138/150\n",
      "189/189 - 1s - loss: 0.0026\n",
      "Epoch 139/150\n",
      "189/189 - 1s - loss: 0.0024\n",
      "Epoch 140/150\n",
      "189/189 - 1s - loss: 0.0024\n",
      "Epoch 141/150\n",
      "189/189 - 1s - loss: 0.0026\n",
      "Epoch 142/150\n",
      "189/189 - 1s - loss: 0.0024\n",
      "Epoch 143/150\n",
      "189/189 - 1s - loss: 0.0024\n",
      "Epoch 144/150\n",
      "189/189 - 1s - loss: 0.0025\n",
      "Epoch 145/150\n",
      "189/189 - 1s - loss: 0.0028\n",
      "Epoch 146/150\n",
      "189/189 - 1s - loss: 0.0024\n",
      "Epoch 147/150\n",
      "189/189 - 1s - loss: 0.0024\n",
      "Epoch 148/150\n",
      "189/189 - 1s - loss: 0.0024\n",
      "Epoch 149/150\n",
      "189/189 - 1s - loss: 0.0023\n",
      "Epoch 150/150\n",
      "189/189 - 1s - loss: 0.0024\n"
     ]
    },
    {
     "data": {
      "text/plain": [
       "<keras.callbacks.History at 0x2431f569340>"
      ]
     },
     "execution_count": 13,
     "metadata": {},
     "output_type": "execute_result"
    }
   ],
   "source": [
    "# MODEL COMPILING AND TRAINING\n",
    "model.compile(loss='mean_absolute_error', optimizer='adam') # Try SGD, adam, adagrad and compare!!!\n",
    "model.fit(trainX, trainY, epochs=150, batch_size=10, verbose=2)"
   ]
  },
  {
   "cell_type": "code",
   "execution_count": 14,
   "metadata": {},
   "outputs": [],
   "source": [
    "# PREDICTION\n",
    "trainPredict = model.predict(trainX)\n",
    "testPredict = model.predict(testX)"
   ]
  },
  {
   "cell_type": "code",
   "execution_count": 15,
   "metadata": {},
   "outputs": [],
   "source": [
    "# DE-NORMALIZING FOR PLOTTING\n",
    "trainPredict = scaler.inverse_transform(trainPredict)\n",
    "trainY = scaler.inverse_transform([trainY])\n",
    "testPredict = scaler.inverse_transform(testPredict)\n",
    "testY = scaler.inverse_transform([testY])"
   ]
  },
  {
   "cell_type": "code",
   "execution_count": 16,
   "metadata": {},
   "outputs": [
    {
     "name": "stdout",
     "output_type": "stream",
     "text": [
      "Train error: 8.36\n"
     ]
    }
   ],
   "source": [
    "# TRAINING RMSE\n",
    "trainScore = mean_absolute_error(trainY[0], trainPredict[:,0])\n",
    "print('Train error: %.2f' % (trainScore))"
   ]
  },
  {
   "cell_type": "code",
   "execution_count": 17,
   "metadata": {},
   "outputs": [
    {
     "name": "stdout",
     "output_type": "stream",
     "text": [
      "Test error: 62.98\n"
     ]
    }
   ],
   "source": [
    "# TEST RMSE\n",
    "testScore = mean_absolute_error(testY[0], testPredict[:,0])\n",
    "print('Test error: %.2f' % (testScore))"
   ]
  },
  {
   "cell_type": "code",
   "execution_count": 18,
   "metadata": {},
   "outputs": [],
   "source": [
    "# CREATING SIMILAR DATASET TO PLOT TRAINING PREDICTIONS\n",
    "trainPredictPlot = np.empty_like(OHLC_avg)\n",
    "trainPredictPlot[:, :] = np.nan\n",
    "trainPredictPlot[step_size:len(trainPredict)+step_size, :] = trainPredict"
   ]
  },
  {
   "cell_type": "code",
   "execution_count": 19,
   "metadata": {},
   "outputs": [],
   "source": [
    "# CREATING SIMILAR DATASSET TO PLOT TEST PREDICTIONS\n",
    "testPredictPlot = np.empty_like(OHLC_avg)\n",
    "testPredictPlot[:, :] = np.nan\n",
    "testPredictPlot[len(trainPredict)+(step_size*2)+1:len(OHLC_avg)-1, :] = testPredict"
   ]
  },
  {
   "cell_type": "code",
   "execution_count": 20,
   "metadata": {},
   "outputs": [],
   "source": [
    "# DE-NORMALIZING MAIN DATASET \n",
    "OHLC_avg = scaler.inverse_transform(OHLC_avg)"
   ]
  },
  {
   "cell_type": "code",
   "execution_count": 21,
   "metadata": {},
   "outputs": [
    {
     "data": {
      "image/png": "[encoded data removed]",
      "text/plain": [
       "<Figure size 432x288 with 1 Axes>"
      ]
     },
     "metadata": {
      "needs_background": "light"
     },
     "output_type": "display_data"
    },
    {
     "data": {
      "image/png": "[encoded data removed]",
      "text/plain": [
       "<Figure size 432x288 with 1 Axes>"
      ]
     },
     "metadata": {
      "needs_background": "light"
     },
     "output_type": "display_data"
    }
   ],
   "source": [
    "# PLOT OF MAIN OHLC VALUES, TRAIN PREDICTIONS AND TEST PREDICTIONS\n",
    "plt.plot(OHLC_avg, 'g', label = 'original dataset')\n",
    "plt.plot(trainPredictPlot, 'r', label = 'training set')\n",
    "plt.legend(loc = 'upper left')\n",
    "plt.xlabel('Time in Days')\n",
    "plt.ylabel('OHLC Value of Amazon Stocks')\n",
    "plt.show()\n",
    "plt.plot(OHLC_avg, 'g', label = 'original dataset')\n",
    "plt.plot(testPredictPlot, 'b', label = 'predicted stock price/test set')\n",
    "plt.legend(loc = 'upper left')\n",
    "plt.xlabel('Time in Days')\n",
    "plt.ylabel('OHLC Value of Amazon Stocks')\n",
    "plt.show()\n"
   ]
  },
  {
   "cell_type": "code",
   "execution_count": 22,
   "metadata": {},
   "outputs": [
    {
     "name": "stdout",
     "output_type": "stream",
     "text": [
      "Last Day Value: 3481.26220703125\n",
      "Next Day Value: 3272.792236328125\n"
     ]
    },
    {
     "name": "stderr",
     "output_type": "stream",
     "text": [
      "<ipython-input-22-ee095eb29b4a>:5: DeprecationWarning: np.asscalar(a) is deprecated since NumPy v1.16, use a.item() instead\n",
      "  print (\"Last Day Value:\", np.asscalar(last_val))\n",
      "<ipython-input-22-ee095eb29b4a>:6: DeprecationWarning: np.asscalar(a) is deprecated since NumPy v1.16, use a.item() instead\n",
      "  print (\"Next Day Value:\", np.asscalar(last_val*next_val))\n"
     ]
    }
   ],
   "source": [
    "# PREDICT FUTURE VALUES\n",
    "last_val = testPredict[-1]\n",
    "last_val_scaled = last_val/last_val\n",
    "next_val = model.predict(np.reshape(last_val_scaled, (1,1,1)))\n",
    "print (\"Last Day Value:\", np.asscalar(last_val))\n",
    "print (\"Next Day Value:\", np.asscalar(last_val*next_val))"
   ]
  },
  {
   "cell_type": "code",
   "execution_count": null,
   "metadata": {},
   "outputs": [],
   "source": []
  }
 ],
 "metadata": {
  "kernelspec": {
   "display_name": "Python 3",
   "language": "python",
   "name": "python3"
  },
  "language_info": {
   "codemirror_mode": {
    "name": "ipython",
    "version": 3
   },
   "file_extension": ".py",
   "mimetype": "text/x-python",
   "name": "python",
   "nbconvert_exporter": "python",
   "pygments_lexer": "ipython3",
   "version": "3.8.5"
  }
 },
 "nbformat": 4,
 "nbformat_minor": 4
}
